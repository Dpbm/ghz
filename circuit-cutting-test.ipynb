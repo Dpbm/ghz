{
 "cells": [
  {
   "cell_type": "code",
   "execution_count": 3,
   "id": "d8cfdce4-3db2-4f80-9ce2-8804f28d2d5b",
   "metadata": {},
   "outputs": [
    {
     "name": "stderr",
     "output_type": "stream",
     "text": [
      "/tmp/ipykernel_170185/1831904870.py:2: DeprecationWarning: The package ``circuit_knitting.cutting.cutqc`` is deprecated and will be removed no sooner than Circuit Knitting Toolbox v0.8.0. The circuit cutting workflow in ``circuit_knitting.cutting`` now implements similar and improved functionalities, which will be maintained going forward. See https://qiskit-extensions.github.io/circuit-knitting-toolbox/circuit_cutting/tutorials/04_automatic_cut_finding.ipynb for a tutorial on the newly added automated cut-finding functionality.\n",
      "  from circuit_knitting.cutting.cutqc import reconstruct_full_distribution, cut_circuit_wires, evaluate_subcircuits\n"
     ]
    }
   ],
   "source": [
    "from qiskit import QuantumCircuit\n",
    "from circuit_knitting.cutting.cutqc import reconstruct_full_distribution, cut_circuit_wires, evaluate_subcircuits"
   ]
  },
  {
   "cell_type": "code",
   "execution_count": 2,
   "id": "22eca8f4-9421-45e9-aa10-6ac4a17a3531",
   "metadata": {},
   "outputs": [
    {
     "data": {
      "image/png": "[encoded data removed]",
      "text/plain": [
       "<Figure size 621.941x451.5 with 1 Axes>"
      ]
     },
     "execution_count": 2,
     "metadata": {},
     "output_type": "execute_result"
    }
   ],
   "source": [
    "test = QuantumCircuit(5)\n",
    "test.h(2)\n",
    "test.cx(2, 1)\n",
    "test.cx(2, 0)\n",
    "test.barrier()\n",
    "test.cx(0, 3)\n",
    "test.cx(3, 4)\n",
    "test.draw('mpl')"
   ]
  },
  {
   "cell_type": "code",
   "execution_count": 4,
   "id": "a419fee3-cb27-42cc-92e5-37d28759c6c6",
   "metadata": {},
   "outputs": [
    {
     "name": "stdout",
     "output_type": "stream",
     "text": [
      "--------------------\n",
      "num_cuts = 3\n",
      "subcircuit 0\n",
      "ρ qubits = 0, O qubits = 3, width = 5, effective = 2, depth = 3, size = 3\n",
      "               ┌───┐ ░ \n",
      "q_0: ──────────┤ X ├─░─\n",
      "          ┌───┐└─┬─┘ ░ \n",
      "q_1: ─────┤ X ├──┼───░─\n",
      "     ┌───┐└─┬─┘  │   ░ \n",
      "q_2: ┤ H ├──■────■───░─\n",
      "     └───┘           ░ \n",
      "q_3: ────────────────░─\n",
      "                     ░ \n",
      "q_4: ────────────────░─\n",
      "                     ░ \n",
      "subcircuit 1\n",
      "ρ qubits = 3, O qubits = 0, width = 3, effective = 3, depth = 2, size = 2\n",
      "               \n",
      "q_0: ──■───────\n",
      "     ┌─┴─┐     \n",
      "q_1: ┤ X ├──■──\n",
      "     └───┘┌─┴─┐\n",
      "q_2: ─────┤ X ├\n",
      "          └───┘\n",
      "Estimated cost = 2.048e+03\n",
      "--------------------\n"
     ]
    },
    {
     "name": "stderr",
     "output_type": "stream",
     "text": [
      "/tmp/ipykernel_170185/2903270964.py:1: DeprecationWarning: The function ``circuit_knitting.cutting.cutqc.wire_cutting.cut_circuit_wires()`` is deprecated as of circuit-knitting-toolbox 0.7.0. It will be removed no sooner than CKT v0.8.0. Use the wire cutting or automated cut-finding functionality in the ``circuit_knitting.cutting`` package. \n",
      "  cut = cut_circuit_wires(circuit=test, method=\"manual\", subcircuit_vertices=[[0,1], [2,3]] )\n"
     ]
    },
    {
     "data": {
      "text/plain": [
       "{'max_subcircuit_width': 5,\n",
       " 'subcircuits': [<qiskit.circuit.quantumcircuit.QuantumCircuit at 0x7f2c2a504460>,\n",
       "  <qiskit.circuit.quantumcircuit.QuantumCircuit at 0x7f2c2a5044f0>],\n",
       " 'complete_path_map': {Qubit(QuantumRegister(5, 'q'), 0): [{'subcircuit_idx': 0,\n",
       "    'subcircuit_qubit': Qubit(QuantumRegister(5, 'q'), 0)},\n",
       "   {'subcircuit_idx': 1,\n",
       "    'subcircuit_qubit': Qubit(QuantumRegister(3, 'q'), 0)}],\n",
       "  Qubit(QuantumRegister(5, 'q'), 1): [{'subcircuit_idx': 0,\n",
       "    'subcircuit_qubit': Qubit(QuantumRegister(5, 'q'), 1)}],\n",
       "  Qubit(QuantumRegister(5, 'q'), 2): [{'subcircuit_idx': 0,\n",
       "    'subcircuit_qubit': Qubit(QuantumRegister(5, 'q'), 2)}],\n",
       "  Qubit(QuantumRegister(5, 'q'), 3): [{'subcircuit_idx': 0,\n",
       "    'subcircuit_qubit': Qubit(QuantumRegister(5, 'q'), 3)},\n",
       "   {'subcircuit_idx': 1,\n",
       "    'subcircuit_qubit': Qubit(QuantumRegister(3, 'q'), 1)}],\n",
       "  Qubit(QuantumRegister(5, 'q'), 4): [{'subcircuit_idx': 0,\n",
       "    'subcircuit_qubit': Qubit(QuantumRegister(5, 'q'), 4)},\n",
       "   {'subcircuit_idx': 1,\n",
       "    'subcircuit_qubit': Qubit(QuantumRegister(3, 'q'), 2)}]},\n",
       " 'num_cuts': 3,\n",
       " 'counter': {0: {'effective': 2,\n",
       "   'rho': 0,\n",
       "   'O': 3,\n",
       "   'd': 5,\n",
       "   'depth': 3,\n",
       "   'size': 3},\n",
       "  1: {'effective': 3, 'rho': 3, 'O': 0, 'd': 3, 'depth': 2, 'size': 2}},\n",
       " 'classical_cost': 2048}"
      ]
     },
     "execution_count": 4,
     "metadata": {},
     "output_type": "execute_result"
    }
   ],
   "source": [
    "cut = cut_circuit_wires(circuit=test, method=\"manual\", subcircuit_vertices=[[0,1], [2,3]] )\n",
    "cut"
   ]
  },
  {
   "cell_type": "code",
   "execution_count": 5,
   "id": "54edbf17-7d27-4794-b7cd-581615b84818",
   "metadata": {},
   "outputs": [
    {
     "name": "stderr",
     "output_type": "stream",
     "text": [
      "/tmp/ipykernel_170185/2394354993.py:1: DeprecationWarning: The function ``circuit_knitting.cutting.cutqc.wire_cutting.evaluate_subcircuits()`` is deprecated as of circuit-knitting-toolbox 0.7.0. It will be removed no sooner than CKT v0.8.0. Use the wire cutting or automated cut-finding functionality in the ``circuit_knitting.cutting`` package. \n",
      "  subcircuit_instance_probabilities = evaluate_subcircuits(cut)\n"
     ]
    },
    {
     "data": {
      "text/plain": [
       "{0: {0: array([0.5, 0. , 0. , 0.5]),\n",
       "  48: array([0.5, 0. , 0. , 0.5]),\n",
       "  12: array([0.5, 0. , 0. , 0.5]),\n",
       "  60: array([0.5, 0. , 0. , 0.5]),\n",
       "  3: array([ 0.5,  0. ,  0. , -0.5]),\n",
       "  51: array([ 0.5,  0. ,  0. , -0.5]),\n",
       "  15: array([ 0.5,  0. ,  0. , -0.5]),\n",
       "  63: array([ 0.5,  0. ,  0. , -0.5]),\n",
       "  1: array([0., 0., 0., 0.]),\n",
       "  49: array([0., 0., 0., 0.]),\n",
       "  13: array([0., 0., 0., 0.]),\n",
       "  61: array([0., 0., 0., 0.]),\n",
       "  2: array([0., 0., 0., 0.]),\n",
       "  50: array([0., 0., 0., 0.]),\n",
       "  14: array([0., 0., 0., 0.]),\n",
       "  62: array([0., 0., 0., 0.]),\n",
       "  4: array([0., 0., 0., 0.]),\n",
       "  52: array([0., 0., 0., 0.]),\n",
       "  7: array([0., 0., 0., 0.]),\n",
       "  55: array([0., 0., 0., 0.]),\n",
       "  5: array([0., 0., 0., 0.]),\n",
       "  53: array([0., 0., 0., 0.]),\n",
       "  6: array([0., 0., 0., 0.]),\n",
       "  54: array([0., 0., 0., 0.]),\n",
       "  8: array([0., 0., 0., 0.]),\n",
       "  56: array([0., 0., 0., 0.]),\n",
       "  11: array([0., 0., 0., 0.]),\n",
       "  59: array([0., 0., 0., 0.]),\n",
       "  9: array([0., 0., 0., 0.]),\n",
       "  57: array([0., 0., 0., 0.]),\n",
       "  10: array([0., 0., 0., 0.]),\n",
       "  58: array([0., 0., 0., 0.]),\n",
       "  16: array([0., 0., 0., 0.]),\n",
       "  28: array([0., 0., 0., 0.]),\n",
       "  19: array([0., 0., 0., 0.]),\n",
       "  31: array([0., 0., 0., 0.]),\n",
       "  17: array([0., 0., 0., 0.]),\n",
       "  29: array([0., 0., 0., 0.]),\n",
       "  18: array([0., 0., 0., 0.]),\n",
       "  30: array([0., 0., 0., 0.]),\n",
       "  20: array([0., 0., 0., 0.]),\n",
       "  23: array([0., 0., 0., 0.]),\n",
       "  21: array([0., 0., 0., 0.]),\n",
       "  22: array([0., 0., 0., 0.]),\n",
       "  24: array([0., 0., 0., 0.]),\n",
       "  27: array([0., 0., 0., 0.]),\n",
       "  25: array([0., 0., 0., 0.]),\n",
       "  26: array([0., 0., 0., 0.]),\n",
       "  32: array([0., 0., 0., 0.]),\n",
       "  44: array([0., 0., 0., 0.]),\n",
       "  35: array([0., 0., 0., 0.]),\n",
       "  47: array([0., 0., 0., 0.]),\n",
       "  33: array([0., 0., 0., 0.]),\n",
       "  45: array([0., 0., 0., 0.]),\n",
       "  34: array([0., 0., 0., 0.]),\n",
       "  46: array([0., 0., 0., 0.]),\n",
       "  36: array([0., 0., 0., 0.]),\n",
       "  39: array([0., 0., 0., 0.]),\n",
       "  37: array([0., 0., 0., 0.]),\n",
       "  38: array([0., 0., 0., 0.]),\n",
       "  40: array([0., 0., 0., 0.]),\n",
       "  43: array([0., 0., 0., 0.]),\n",
       "  41: array([0., 0., 0., 0.]),\n",
       "  42: array([0., 0., 0., 0.])},\n",
       " 1: {0: array([1., 0., 0., 0., 0., 0., 0., 0.]),\n",
       "  1: array([0., 0., 0., 0., 1., 0., 0., 0.]),\n",
       "  2: array([0., 0., 0., 0., 0., 0., 1., 0.]),\n",
       "  3: array([0., 0., 1., 0., 0., 0., 0., 0.]),\n",
       "  4: array([0., 0., 0., 0., 0., 0., 0., 1.]),\n",
       "  5: array([0., 0., 0., 1., 0., 0., 0., 0.]),\n",
       "  6: array([0., 1., 0., 0., 0., 0., 0., 0.]),\n",
       "  7: array([0., 0., 0., 0., 0., 1., 0., 0.]),\n",
       "  8: array([0.5, 0. , 0. , 0. , 0. , 0. , 0. , 0.5]),\n",
       "  9: array([0. , 0. , 0. , 0.5, 0.5, 0. , 0. , 0. ]),\n",
       "  10: array([0. , 0.5, 0. , 0. , 0. , 0. , 0.5, 0. ]),\n",
       "  11: array([0. , 0. , 0.5, 0. , 0. , 0.5, 0. , 0. ]),\n",
       "  12: array([0.5, 0. , 0. , 0. , 0. , 0. , 0. , 0.5]),\n",
       "  13: array([0. , 0. , 0. , 0.5, 0.5, 0. , 0. , 0. ]),\n",
       "  14: array([0. , 0.5, 0. , 0. , 0. , 0. , 0.5, 0. ]),\n",
       "  15: array([0. , 0. , 0.5, 0. , 0. , 0.5, 0. , 0. ]),\n",
       "  16: array([0.5, 0. , 0. , 0. , 0. , 0. , 0.5, 0. ]),\n",
       "  17: array([0. , 0. , 0.5, 0. , 0.5, 0. , 0. , 0. ]),\n",
       "  18: array([0. , 0.5, 0. , 0. , 0. , 0. , 0. , 0.5]),\n",
       "  19: array([0. , 0. , 0. , 0.5, 0. , 0.5, 0. , 0. ]),\n",
       "  20: array([0.25, 0.25, 0.  , 0.  , 0.  , 0.  , 0.25, 0.25]),\n",
       "  21: array([0.  , 0.  , 0.25, 0.25, 0.25, 0.25, 0.  , 0.  ]),\n",
       "  22: array([0.25, 0.25, 0.  , 0.  , 0.  , 0.  , 0.25, 0.25]),\n",
       "  23: array([0.  , 0.  , 0.25, 0.25, 0.25, 0.25, 0.  , 0.  ]),\n",
       "  24: array([0.5, 0. , 0. , 0. , 0. , 0. , 0.5, 0. ]),\n",
       "  25: array([0. , 0. , 0.5, 0. , 0.5, 0. , 0. , 0. ]),\n",
       "  26: array([0. , 0.5, 0. , 0. , 0. , 0. , 0. , 0.5]),\n",
       "  27: array([0. , 0. , 0. , 0.5, 0. , 0.5, 0. , 0. ]),\n",
       "  28: array([0.25, 0.25, 0.  , 0.  , 0.  , 0.  , 0.25, 0.25]),\n",
       "  29: array([0.  , 0.  , 0.25, 0.25, 0.25, 0.25, 0.  , 0.  ]),\n",
       "  30: array([0.25, 0.25, 0.  , 0.  , 0.  , 0.  , 0.25, 0.25]),\n",
       "  31: array([0.  , 0.  , 0.25, 0.25, 0.25, 0.25, 0.  , 0.  ]),\n",
       "  32: array([0.5, 0. , 0. , 0. , 0.5, 0. , 0. , 0. ]),\n",
       "  33: array([0. , 0. , 0.5, 0. , 0. , 0. , 0.5, 0. ]),\n",
       "  34: array([0. , 0. , 0. , 0.5, 0. , 0. , 0. , 0.5]),\n",
       "  35: array([0. , 0.5, 0. , 0. , 0. , 0.5, 0. , 0. ]),\n",
       "  36: array([0.25, 0.  , 0.  , 0.25, 0.25, 0.  , 0.  , 0.25]),\n",
       "  37: array([0.  , 0.25, 0.25, 0.  , 0.  , 0.25, 0.25, 0.  ]),\n",
       "  38: array([0.25, 0.  , 0.  , 0.25, 0.25, 0.  , 0.  , 0.25]),\n",
       "  39: array([0.  , 0.25, 0.25, 0.  , 0.  , 0.25, 0.25, 0.  ]),\n",
       "  40: array([0.25, 0.  , 0.25, 0.  , 0.25, 0.  , 0.25, 0.  ]),\n",
       "  41: array([0.  , 0.25, 0.  , 0.25, 0.  , 0.25, 0.  , 0.25]),\n",
       "  42: array([0.125, 0.125, 0.125, 0.125, 0.125, 0.125, 0.125, 0.125]),\n",
       "  43: array([0.125, 0.125, 0.125, 0.125, 0.125, 0.125, 0.125, 0.125]),\n",
       "  44: array([0.25, 0.  , 0.25, 0.  , 0.25, 0.  , 0.25, 0.  ]),\n",
       "  45: array([0.  , 0.25, 0.  , 0.25, 0.  , 0.25, 0.  , 0.25]),\n",
       "  46: array([0.125, 0.125, 0.125, 0.125, 0.125, 0.125, 0.125, 0.125]),\n",
       "  47: array([0.125, 0.125, 0.125, 0.125, 0.125, 0.125, 0.125, 0.125]),\n",
       "  48: array([0.5, 0. , 0. , 0. , 0.5, 0. , 0. , 0. ]),\n",
       "  49: array([0. , 0. , 0.5, 0. , 0. , 0. , 0.5, 0. ]),\n",
       "  50: array([0. , 0. , 0. , 0.5, 0. , 0. , 0. , 0.5]),\n",
       "  51: array([0. , 0.5, 0. , 0. , 0. , 0.5, 0. , 0. ]),\n",
       "  52: array([0.25, 0.  , 0.  , 0.25, 0.25, 0.  , 0.  , 0.25]),\n",
       "  53: array([0.  , 0.25, 0.25, 0.  , 0.  , 0.25, 0.25, 0.  ]),\n",
       "  54: array([0.25, 0.  , 0.  , 0.25, 0.25, 0.  , 0.  , 0.25]),\n",
       "  55: array([0.  , 0.25, 0.25, 0.  , 0.  , 0.25, 0.25, 0.  ]),\n",
       "  56: array([0.25, 0.  , 0.25, 0.  , 0.25, 0.  , 0.25, 0.  ]),\n",
       "  57: array([0.  , 0.25, 0.  , 0.25, 0.  , 0.25, 0.  , 0.25]),\n",
       "  58: array([0.125, 0.125, 0.125, 0.125, 0.125, 0.125, 0.125, 0.125]),\n",
       "  59: array([0.125, 0.125, 0.125, 0.125, 0.125, 0.125, 0.125, 0.125]),\n",
       "  60: array([0.25, 0.  , 0.25, 0.  , 0.25, 0.  , 0.25, 0.  ]),\n",
       "  61: array([0.  , 0.25, 0.  , 0.25, 0.  , 0.25, 0.  , 0.25]),\n",
       "  62: array([0.125, 0.125, 0.125, 0.125, 0.125, 0.125, 0.125, 0.125]),\n",
       "  63: array([0.125, 0.125, 0.125, 0.125, 0.125, 0.125, 0.125, 0.125])}}"
      ]
     },
     "execution_count": 5,
     "metadata": {},
     "output_type": "execute_result"
    }
   ],
   "source": [
    "subcircuit_instance_probabilities = evaluate_subcircuits(cut)\n",
    "subcircuit_instance_probabilities"
   ]
  },
  {
   "cell_type": "code",
   "execution_count": 6,
   "id": "70cf7f88-6185-43be-8a8b-2ea32fc9432a",
   "metadata": {},
   "outputs": [
    {
     "name": "stderr",
     "output_type": "stream",
     "text": [
      "/tmp/ipykernel_170185/868024989.py:1: DeprecationWarning: The function ``circuit_knitting.cutting.cutqc.wire_cutting.reconstruct_full_distribution()`` is deprecated as of circuit-knitting-toolbox 0.7.0. It will be removed no sooner than CKT v0.8.0. Use the wire cutting or automated cut-finding functionality in the ``circuit_knitting.cutting`` package. \n",
      "  reconstructed_probabilities = reconstruct_full_distribution(\n"
     ]
    },
    {
     "data": {
      "text/plain": [
       "array([0.5, 0. , 0. , 0. , 0. , 0. , 0. , 0. , 0. , 0. , 0. , 0. , 0. ,\n",
       "       0. , 0. , 0. , 0. , 0. , 0. , 0. , 0. , 0. , 0. , 0. , 0. , 0. ,\n",
       "       0. , 0. , 0. , 0. , 0. , 0.5])"
      ]
     },
     "execution_count": 6,
     "metadata": {},
     "output_type": "execute_result"
    }
   ],
   "source": [
    "reconstructed_probabilities = reconstruct_full_distribution(\n",
    "    test, subcircuit_instance_probabilities, cut\n",
    ")\n",
    "reconstructed_probabilities"
   ]
  }
 ],
 "metadata": {
  "kernelspec": {
   "display_name": "Python 3 (ipykernel)",
   "language": "python",
   "name": "python3"
  },
  "language_info": {
   "codemirror_mode": {
    "name": "ipython",
    "version": 3
   },
   "file_extension": ".py",
   "mimetype": "text/x-python",
   "name": "python",
   "nbconvert_exporter": "python",
   "pygments_lexer": "ipython3",
   "version": "3.10.4"
  }
 },
 "nbformat": 4,
 "nbformat_minor": 5
}
